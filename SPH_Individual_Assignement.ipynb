{
 "cells": [
  {
   "cell_type": "code",
   "execution_count": 99,
   "metadata": {
    "collapsed": true,
    "pycharm": {
     "name": "#%%\n"
    }
   },
   "outputs": [],
   "source": [
    "import pandas as pd\n",
    "import matplotlib.pyplot as plt\n",
    "import seaborn as sns\n",
    "import numpy as np\n",
    "from sklearn.preprocessing import StandardScaler\n",
    "from sklearn.feature_selection import VarianceThreshold\n",
    "from sklearn.preprocessing import OneHotEncoder\n",
    "from sklearn.model_selection import train_test_split, StratifiedKFold\n",
    "from sklearn.linear_model import LogisticRegression\n",
    "from sklearn import metrics\n",
    "from sklearn.ensemble import RandomForestClassifier\n",
    "from sklearn.metrics import classification_report, accuracy_score\n",
    "from sklearn.model_selection import RandomizedSearchCV\n",
    "from xgboost import XGBClassifier"
   ]
  },
  {
   "cell_type": "code",
   "execution_count": 100,
   "outputs": [
    {
     "data": {
      "text/plain": "             id  hospital_mortality  aki_stage gender  admission_age  \\\n0      39553978                   0          0      F      52.559969   \n1      39765666                   0          0      F      76.486231   \n2      37067082                   0          0      F      55.881486   \n3      31205490                   0          0      F      46.275517   \n4      37510196                   1          2      F      77.018296   \n...         ...                 ...        ...    ...            ...   \n50915  32336619                   0          0      M      43.884161   \n50916  31070865                   0          0      M      82.773493   \n50917  36075953                   0          0      F      48.022487   \n50918  38978960                   1          2      M      58.694264   \n50919  36195440                   0          2      F      57.837531   \n\n                         race  heart_rate_min  heart_rate_max  \\\n0                       WHITE            91.0           105.0   \n1      BLACK/AFRICAN AMERICAN            68.0            80.0   \n2                       WHITE            78.0           106.0   \n3                       WHITE            55.0            91.0   \n4      BLACK/AFRICAN AMERICAN            38.0            80.0   \n...                       ...             ...             ...   \n50915                   WHITE            76.0           110.0   \n50916                   WHITE            63.0            96.0   \n50917                   WHITE            93.0           109.0   \n50918                   WHITE            71.0           100.0   \n50919                 UNKNOWN            76.0           107.0   \n\n       heart_rate_mean  sbp_min  ...  ggt_max  ld_ldh_min  ld_ldh_max  \\\n0            96.500000     82.0  ...      NaN       173.0       173.0   \n1            73.636364    130.0  ...      NaN         NaN         NaN   \n2            93.200000    117.0  ...      NaN         NaN         NaN   \n3            79.480000     73.0  ...      NaN         NaN         NaN   \n4            71.392857     93.0  ...      NaN         NaN         NaN   \n...                ...      ...  ...      ...         ...         ...   \n50915        87.758621    106.0  ...      NaN         NaN         NaN   \n50916        71.000000     91.0  ...      NaN         NaN         NaN   \n50917       100.423077     91.0  ...      NaN       238.0       238.0   \n50918        84.666667     75.0  ...      NaN         NaN         NaN   \n50919        91.461538     90.0  ...      NaN         NaN         NaN   \n\n       gcs_min  gcs_motor  gcs_verbal  gcs_eyes  gcs_unable  height  \\\n0         14.0        6.0         4.0       4.0         0.0   152.0   \n1         15.0        6.0         5.0       4.0         0.0     NaN   \n2         15.0        6.0         5.0       4.0         0.0     NaN   \n3         15.0        6.0         5.0       4.0         0.0   157.0   \n4         15.0        1.0         0.0       1.0         1.0   157.0   \n...        ...        ...         ...       ...         ...     ...   \n50915     10.0        5.0         2.0       3.0         0.0   193.0   \n50916     11.0        5.0         2.0       4.0         0.0     NaN   \n50917     14.0        6.0         5.0       3.0         0.0     NaN   \n50918      5.0        3.0         1.0       1.0         0.0   178.0   \n50919     10.0        5.0         2.0       3.0         0.0     NaN   \n\n       weight_admit  \n0              39.4  \n1              76.2  \n2              71.2  \n3              72.2  \n4              65.0  \n...             ...  \n50915         107.5  \n50916          50.5  \n50917          67.9  \n50918          77.5  \n50919          94.0  \n\n[50920 rows x 165 columns]",
      "text/html": "<div>\n<style scoped>\n    .dataframe tbody tr th:only-of-type {\n        vertical-align: middle;\n    }\n\n    .dataframe tbody tr th {\n        vertical-align: top;\n    }\n\n    .dataframe thead th {\n        text-align: right;\n    }\n</style>\n<table border=\"1\" class=\"dataframe\">\n  <thead>\n    <tr style=\"text-align: right;\">\n      <th></th>\n      <th>id</th>\n      <th>hospital_mortality</th>\n      <th>aki_stage</th>\n      <th>gender</th>\n      <th>admission_age</th>\n      <th>race</th>\n      <th>heart_rate_min</th>\n      <th>heart_rate_max</th>\n      <th>heart_rate_mean</th>\n      <th>sbp_min</th>\n      <th>...</th>\n      <th>ggt_max</th>\n      <th>ld_ldh_min</th>\n      <th>ld_ldh_max</th>\n      <th>gcs_min</th>\n      <th>gcs_motor</th>\n      <th>gcs_verbal</th>\n      <th>gcs_eyes</th>\n      <th>gcs_unable</th>\n      <th>height</th>\n      <th>weight_admit</th>\n    </tr>\n  </thead>\n  <tbody>\n    <tr>\n      <th>0</th>\n      <td>39553978</td>\n      <td>0</td>\n      <td>0</td>\n      <td>F</td>\n      <td>52.559969</td>\n      <td>WHITE</td>\n      <td>91.0</td>\n      <td>105.0</td>\n      <td>96.500000</td>\n      <td>82.0</td>\n      <td>...</td>\n      <td>NaN</td>\n      <td>173.0</td>\n      <td>173.0</td>\n      <td>14.0</td>\n      <td>6.0</td>\n      <td>4.0</td>\n      <td>4.0</td>\n      <td>0.0</td>\n      <td>152.0</td>\n      <td>39.4</td>\n    </tr>\n    <tr>\n      <th>1</th>\n      <td>39765666</td>\n      <td>0</td>\n      <td>0</td>\n      <td>F</td>\n      <td>76.486231</td>\n      <td>BLACK/AFRICAN AMERICAN</td>\n      <td>68.0</td>\n      <td>80.0</td>\n      <td>73.636364</td>\n      <td>130.0</td>\n      <td>...</td>\n      <td>NaN</td>\n      <td>NaN</td>\n      <td>NaN</td>\n      <td>15.0</td>\n      <td>6.0</td>\n      <td>5.0</td>\n      <td>4.0</td>\n      <td>0.0</td>\n      <td>NaN</td>\n      <td>76.2</td>\n    </tr>\n    <tr>\n      <th>2</th>\n      <td>37067082</td>\n      <td>0</td>\n      <td>0</td>\n      <td>F</td>\n      <td>55.881486</td>\n      <td>WHITE</td>\n      <td>78.0</td>\n      <td>106.0</td>\n      <td>93.200000</td>\n      <td>117.0</td>\n      <td>...</td>\n      <td>NaN</td>\n      <td>NaN</td>\n      <td>NaN</td>\n      <td>15.0</td>\n      <td>6.0</td>\n      <td>5.0</td>\n      <td>4.0</td>\n      <td>0.0</td>\n      <td>NaN</td>\n      <td>71.2</td>\n    </tr>\n    <tr>\n      <th>3</th>\n      <td>31205490</td>\n      <td>0</td>\n      <td>0</td>\n      <td>F</td>\n      <td>46.275517</td>\n      <td>WHITE</td>\n      <td>55.0</td>\n      <td>91.0</td>\n      <td>79.480000</td>\n      <td>73.0</td>\n      <td>...</td>\n      <td>NaN</td>\n      <td>NaN</td>\n      <td>NaN</td>\n      <td>15.0</td>\n      <td>6.0</td>\n      <td>5.0</td>\n      <td>4.0</td>\n      <td>0.0</td>\n      <td>157.0</td>\n      <td>72.2</td>\n    </tr>\n    <tr>\n      <th>4</th>\n      <td>37510196</td>\n      <td>1</td>\n      <td>2</td>\n      <td>F</td>\n      <td>77.018296</td>\n      <td>BLACK/AFRICAN AMERICAN</td>\n      <td>38.0</td>\n      <td>80.0</td>\n      <td>71.392857</td>\n      <td>93.0</td>\n      <td>...</td>\n      <td>NaN</td>\n      <td>NaN</td>\n      <td>NaN</td>\n      <td>15.0</td>\n      <td>1.0</td>\n      <td>0.0</td>\n      <td>1.0</td>\n      <td>1.0</td>\n      <td>157.0</td>\n      <td>65.0</td>\n    </tr>\n    <tr>\n      <th>...</th>\n      <td>...</td>\n      <td>...</td>\n      <td>...</td>\n      <td>...</td>\n      <td>...</td>\n      <td>...</td>\n      <td>...</td>\n      <td>...</td>\n      <td>...</td>\n      <td>...</td>\n      <td>...</td>\n      <td>...</td>\n      <td>...</td>\n      <td>...</td>\n      <td>...</td>\n      <td>...</td>\n      <td>...</td>\n      <td>...</td>\n      <td>...</td>\n      <td>...</td>\n      <td>...</td>\n    </tr>\n    <tr>\n      <th>50915</th>\n      <td>32336619</td>\n      <td>0</td>\n      <td>0</td>\n      <td>M</td>\n      <td>43.884161</td>\n      <td>WHITE</td>\n      <td>76.0</td>\n      <td>110.0</td>\n      <td>87.758621</td>\n      <td>106.0</td>\n      <td>...</td>\n      <td>NaN</td>\n      <td>NaN</td>\n      <td>NaN</td>\n      <td>10.0</td>\n      <td>5.0</td>\n      <td>2.0</td>\n      <td>3.0</td>\n      <td>0.0</td>\n      <td>193.0</td>\n      <td>107.5</td>\n    </tr>\n    <tr>\n      <th>50916</th>\n      <td>31070865</td>\n      <td>0</td>\n      <td>0</td>\n      <td>M</td>\n      <td>82.773493</td>\n      <td>WHITE</td>\n      <td>63.0</td>\n      <td>96.0</td>\n      <td>71.000000</td>\n      <td>91.0</td>\n      <td>...</td>\n      <td>NaN</td>\n      <td>NaN</td>\n      <td>NaN</td>\n      <td>11.0</td>\n      <td>5.0</td>\n      <td>2.0</td>\n      <td>4.0</td>\n      <td>0.0</td>\n      <td>NaN</td>\n      <td>50.5</td>\n    </tr>\n    <tr>\n      <th>50917</th>\n      <td>36075953</td>\n      <td>0</td>\n      <td>0</td>\n      <td>F</td>\n      <td>48.022487</td>\n      <td>WHITE</td>\n      <td>93.0</td>\n      <td>109.0</td>\n      <td>100.423077</td>\n      <td>91.0</td>\n      <td>...</td>\n      <td>NaN</td>\n      <td>238.0</td>\n      <td>238.0</td>\n      <td>14.0</td>\n      <td>6.0</td>\n      <td>5.0</td>\n      <td>3.0</td>\n      <td>0.0</td>\n      <td>NaN</td>\n      <td>67.9</td>\n    </tr>\n    <tr>\n      <th>50918</th>\n      <td>38978960</td>\n      <td>1</td>\n      <td>2</td>\n      <td>M</td>\n      <td>58.694264</td>\n      <td>WHITE</td>\n      <td>71.0</td>\n      <td>100.0</td>\n      <td>84.666667</td>\n      <td>75.0</td>\n      <td>...</td>\n      <td>NaN</td>\n      <td>NaN</td>\n      <td>NaN</td>\n      <td>5.0</td>\n      <td>3.0</td>\n      <td>1.0</td>\n      <td>1.0</td>\n      <td>0.0</td>\n      <td>178.0</td>\n      <td>77.5</td>\n    </tr>\n    <tr>\n      <th>50919</th>\n      <td>36195440</td>\n      <td>0</td>\n      <td>2</td>\n      <td>F</td>\n      <td>57.837531</td>\n      <td>UNKNOWN</td>\n      <td>76.0</td>\n      <td>107.0</td>\n      <td>91.461538</td>\n      <td>90.0</td>\n      <td>...</td>\n      <td>NaN</td>\n      <td>NaN</td>\n      <td>NaN</td>\n      <td>10.0</td>\n      <td>5.0</td>\n      <td>2.0</td>\n      <td>3.0</td>\n      <td>0.0</td>\n      <td>NaN</td>\n      <td>94.0</td>\n    </tr>\n  </tbody>\n</table>\n<p>50920 rows × 165 columns</p>\n</div>"
     },
     "execution_count": 100,
     "metadata": {},
     "output_type": "execute_result"
    }
   ],
   "source": [
    "data = pd.read_csv(\"sph6004_assignment1_data.csv\")\n",
    "df = pd.DataFrame(data)\n",
    "df"
   ],
   "metadata": {
    "collapsed": false,
    "pycharm": {
     "name": "#%%\n"
    }
   }
  },
  {
   "cell_type": "code",
   "execution_count": 101,
   "outputs": [
    {
     "data": {
      "text/plain": "id                        0\nhospital_mortality        0\naki_stage                 0\ngender                    0\nadmission_age             0\n                      ...  \ngcs_verbal              513\ngcs_eyes                378\ngcs_unable              235\nheight                25909\nweight_admit           1020\nLength: 165, dtype: int64"
     },
     "execution_count": 101,
     "metadata": {},
     "output_type": "execute_result"
    }
   ],
   "source": [
    "df.shape\n",
    "df.isnull().sum()"
   ],
   "metadata": {
    "collapsed": false,
    "pycharm": {
     "name": "#%%\n"
    }
   }
  },
  {
   "cell_type": "code",
   "execution_count": 101,
   "outputs": [],
   "source": [],
   "metadata": {
    "collapsed": false,
    "pycharm": {
     "name": "#%%\n"
    }
   }
  },
  {
   "cell_type": "code",
   "execution_count": 102,
   "outputs": [
    {
     "name": "stderr",
     "output_type": "stream",
     "text": [
      "C:\\Users\\matebook 14\\AppData\\Local\\Temp\\ipykernel_28132\\3305361035.py:15: FutureWarning: Downcasting behavior in `replace` is deprecated and will be removed in a future version. To retain the old behavior, explicitly call `result.infer_objects(copy=False)`. To opt-in to the future behavior, set `pd.set_option('future.no_silent_downcasting', True)`\n",
      "  df['gender'] = df['gender'].replace({'F':0,'M':1})\n"
     ]
    },
    {
     "data": {
      "text/plain": "         id  hospital_mortality  aki_stage  gender  admission_age  \\\n0  39553978                   0          0       0      52.559969   \n1  39765666                   0          0       0      76.486231   \n2  37067082                   0          0       0      55.881486   \n3  31205490                   0          0       0      46.275517   \n4  37510196                   1          2       0      77.018296   \n\n   heart_rate_min  heart_rate_max  heart_rate_mean  sbp_min  sbp_max  ...  \\\n0            91.0           105.0        96.500000     82.0     95.0  ...   \n1            68.0            80.0        73.636364    130.0    158.0  ...   \n2            78.0           106.0        93.200000    117.0    151.0  ...   \n3            55.0            91.0        79.480000     73.0    115.0  ...   \n4            38.0            80.0        71.392857     93.0    180.0  ...   \n\n   ld_ldh_max  gcs_min  gcs_motor  gcs_verbal  gcs_eyes  gcs_unable  height  \\\n0       173.0     14.0        6.0         4.0       4.0         0.0   152.0   \n1         NaN     15.0        6.0         5.0       4.0         0.0     NaN   \n2         NaN     15.0        6.0         5.0       4.0         0.0     NaN   \n3         NaN     15.0        6.0         5.0       4.0         0.0   157.0   \n4         NaN     15.0        1.0         0.0       1.0         1.0   157.0   \n\n   weight_admit  race_WHITE  race_others  \n0          39.4         1.0          0.0  \n1          76.2         0.0          0.0  \n2          71.2         1.0          0.0  \n3          72.2         1.0          0.0  \n4          65.0         0.0          0.0  \n\n[5 rows x 166 columns]",
      "text/html": "<div>\n<style scoped>\n    .dataframe tbody tr th:only-of-type {\n        vertical-align: middle;\n    }\n\n    .dataframe tbody tr th {\n        vertical-align: top;\n    }\n\n    .dataframe thead th {\n        text-align: right;\n    }\n</style>\n<table border=\"1\" class=\"dataframe\">\n  <thead>\n    <tr style=\"text-align: right;\">\n      <th></th>\n      <th>id</th>\n      <th>hospital_mortality</th>\n      <th>aki_stage</th>\n      <th>gender</th>\n      <th>admission_age</th>\n      <th>heart_rate_min</th>\n      <th>heart_rate_max</th>\n      <th>heart_rate_mean</th>\n      <th>sbp_min</th>\n      <th>sbp_max</th>\n      <th>...</th>\n      <th>ld_ldh_max</th>\n      <th>gcs_min</th>\n      <th>gcs_motor</th>\n      <th>gcs_verbal</th>\n      <th>gcs_eyes</th>\n      <th>gcs_unable</th>\n      <th>height</th>\n      <th>weight_admit</th>\n      <th>race_WHITE</th>\n      <th>race_others</th>\n    </tr>\n  </thead>\n  <tbody>\n    <tr>\n      <th>0</th>\n      <td>39553978</td>\n      <td>0</td>\n      <td>0</td>\n      <td>0</td>\n      <td>52.559969</td>\n      <td>91.0</td>\n      <td>105.0</td>\n      <td>96.500000</td>\n      <td>82.0</td>\n      <td>95.0</td>\n      <td>...</td>\n      <td>173.0</td>\n      <td>14.0</td>\n      <td>6.0</td>\n      <td>4.0</td>\n      <td>4.0</td>\n      <td>0.0</td>\n      <td>152.0</td>\n      <td>39.4</td>\n      <td>1.0</td>\n      <td>0.0</td>\n    </tr>\n    <tr>\n      <th>1</th>\n      <td>39765666</td>\n      <td>0</td>\n      <td>0</td>\n      <td>0</td>\n      <td>76.486231</td>\n      <td>68.0</td>\n      <td>80.0</td>\n      <td>73.636364</td>\n      <td>130.0</td>\n      <td>158.0</td>\n      <td>...</td>\n      <td>NaN</td>\n      <td>15.0</td>\n      <td>6.0</td>\n      <td>5.0</td>\n      <td>4.0</td>\n      <td>0.0</td>\n      <td>NaN</td>\n      <td>76.2</td>\n      <td>0.0</td>\n      <td>0.0</td>\n    </tr>\n    <tr>\n      <th>2</th>\n      <td>37067082</td>\n      <td>0</td>\n      <td>0</td>\n      <td>0</td>\n      <td>55.881486</td>\n      <td>78.0</td>\n      <td>106.0</td>\n      <td>93.200000</td>\n      <td>117.0</td>\n      <td>151.0</td>\n      <td>...</td>\n      <td>NaN</td>\n      <td>15.0</td>\n      <td>6.0</td>\n      <td>5.0</td>\n      <td>4.0</td>\n      <td>0.0</td>\n      <td>NaN</td>\n      <td>71.2</td>\n      <td>1.0</td>\n      <td>0.0</td>\n    </tr>\n    <tr>\n      <th>3</th>\n      <td>31205490</td>\n      <td>0</td>\n      <td>0</td>\n      <td>0</td>\n      <td>46.275517</td>\n      <td>55.0</td>\n      <td>91.0</td>\n      <td>79.480000</td>\n      <td>73.0</td>\n      <td>115.0</td>\n      <td>...</td>\n      <td>NaN</td>\n      <td>15.0</td>\n      <td>6.0</td>\n      <td>5.0</td>\n      <td>4.0</td>\n      <td>0.0</td>\n      <td>157.0</td>\n      <td>72.2</td>\n      <td>1.0</td>\n      <td>0.0</td>\n    </tr>\n    <tr>\n      <th>4</th>\n      <td>37510196</td>\n      <td>1</td>\n      <td>2</td>\n      <td>0</td>\n      <td>77.018296</td>\n      <td>38.0</td>\n      <td>80.0</td>\n      <td>71.392857</td>\n      <td>93.0</td>\n      <td>180.0</td>\n      <td>...</td>\n      <td>NaN</td>\n      <td>15.0</td>\n      <td>1.0</td>\n      <td>0.0</td>\n      <td>1.0</td>\n      <td>1.0</td>\n      <td>157.0</td>\n      <td>65.0</td>\n      <td>0.0</td>\n      <td>0.0</td>\n    </tr>\n  </tbody>\n</table>\n<p>5 rows × 166 columns</p>\n</div>"
     },
     "execution_count": 102,
     "metadata": {},
     "output_type": "execute_result"
    }
   ],
   "source": [
    "def race(r):\n",
    "    if r != 'WHITE' and r != 'BLACK/AFRICAN AMERICAN':\n",
    "        return 'others'\n",
    "    else:\n",
    "        return r\n",
    "df['race'] = df['race'].apply(race)\n",
    "\n",
    "encoder = OneHotEncoder(drop=\"first\", sparse_output=False)\n",
    "race_encoded = encoder.fit_transform(df[['race']])\n",
    "race_encoded_df = pd.DataFrame(race_encoded, columns=encoder.get_feature_names_out(['race']))\n",
    "\n",
    "df = df.drop(columns=['race']).reset_index(drop=True)\n",
    "df = pd.concat([df, race_encoded_df], axis=1)\n",
    "\n",
    "df['gender'] = df['gender'].replace({'F':0,'M':1})\n",
    "\n",
    "df.head()"
   ],
   "metadata": {
    "collapsed": false,
    "pycharm": {
     "name": "#%%\n"
    }
   }
  },
  {
   "cell_type": "code",
   "execution_count": 103,
   "outputs": [
    {
     "data": {
      "text/plain": "       admission_age  heart_rate_min  heart_rate_max  heart_rate_mean  \\\n21594      80.746049            78.0           119.0        99.666667   \n47259      42.783657            98.0           139.0       112.500000   \n17164      59.614632            82.0           114.0        95.945946   \n27813      75.150485            71.0            90.0        80.580645   \n10552      63.367793            61.0            92.0        75.880000   \n\n         sbp_min  sbp_max    sbp_mean  dbp_min  dbp_max   dbp_mean  ...  \\\n21594  45.000000    137.0  104.527027     34.0     66.0  52.770270  ...   \n47259  81.000000    120.0   98.086957     57.0    105.0  68.434783  ...   \n17164  84.333333    144.5  120.565892     51.0     86.0  61.562016  ...   \n27813  82.000000    149.0  126.222222     50.0    100.0  68.277778  ...   \n10552  83.000000    176.0  126.250000     68.0     99.0  83.166667  ...   \n\n       inr_max  pt_min  pt_max  ptt_min  ptt_max  gcs_min  gcs_motor  \\\n21594      1.4    12.6    15.3     23.2    150.0     15.0        6.0   \n47259      1.7    17.3    18.4     29.2     52.6     13.0        6.0   \n17164      1.3    14.2    15.1     35.2     38.8     10.0        6.0   \n27813      3.3    14.1    33.6     28.4     40.4     14.0        6.0   \n10552      NaN     NaN     NaN      NaN      NaN     15.0        1.0   \n\n       gcs_verbal  gcs_eyes  weight_admit  \n21594         0.0       3.0          67.1  \n47259         4.0       3.0          61.7  \n17164         1.0       3.0          84.0  \n27813         4.0       4.0          68.0  \n10552         0.0       1.0          94.0  \n\n[5 rows x 75 columns]",
      "text/html": "<div>\n<style scoped>\n    .dataframe tbody tr th:only-of-type {\n        vertical-align: middle;\n    }\n\n    .dataframe tbody tr th {\n        vertical-align: top;\n    }\n\n    .dataframe thead th {\n        text-align: right;\n    }\n</style>\n<table border=\"1\" class=\"dataframe\">\n  <thead>\n    <tr style=\"text-align: right;\">\n      <th></th>\n      <th>admission_age</th>\n      <th>heart_rate_min</th>\n      <th>heart_rate_max</th>\n      <th>heart_rate_mean</th>\n      <th>sbp_min</th>\n      <th>sbp_max</th>\n      <th>sbp_mean</th>\n      <th>dbp_min</th>\n      <th>dbp_max</th>\n      <th>dbp_mean</th>\n      <th>...</th>\n      <th>inr_max</th>\n      <th>pt_min</th>\n      <th>pt_max</th>\n      <th>ptt_min</th>\n      <th>ptt_max</th>\n      <th>gcs_min</th>\n      <th>gcs_motor</th>\n      <th>gcs_verbal</th>\n      <th>gcs_eyes</th>\n      <th>weight_admit</th>\n    </tr>\n  </thead>\n  <tbody>\n    <tr>\n      <th>21594</th>\n      <td>80.746049</td>\n      <td>78.0</td>\n      <td>119.0</td>\n      <td>99.666667</td>\n      <td>45.000000</td>\n      <td>137.0</td>\n      <td>104.527027</td>\n      <td>34.0</td>\n      <td>66.0</td>\n      <td>52.770270</td>\n      <td>...</td>\n      <td>1.4</td>\n      <td>12.6</td>\n      <td>15.3</td>\n      <td>23.2</td>\n      <td>150.0</td>\n      <td>15.0</td>\n      <td>6.0</td>\n      <td>0.0</td>\n      <td>3.0</td>\n      <td>67.1</td>\n    </tr>\n    <tr>\n      <th>47259</th>\n      <td>42.783657</td>\n      <td>98.0</td>\n      <td>139.0</td>\n      <td>112.500000</td>\n      <td>81.000000</td>\n      <td>120.0</td>\n      <td>98.086957</td>\n      <td>57.0</td>\n      <td>105.0</td>\n      <td>68.434783</td>\n      <td>...</td>\n      <td>1.7</td>\n      <td>17.3</td>\n      <td>18.4</td>\n      <td>29.2</td>\n      <td>52.6</td>\n      <td>13.0</td>\n      <td>6.0</td>\n      <td>4.0</td>\n      <td>3.0</td>\n      <td>61.7</td>\n    </tr>\n    <tr>\n      <th>17164</th>\n      <td>59.614632</td>\n      <td>82.0</td>\n      <td>114.0</td>\n      <td>95.945946</td>\n      <td>84.333333</td>\n      <td>144.5</td>\n      <td>120.565892</td>\n      <td>51.0</td>\n      <td>86.0</td>\n      <td>61.562016</td>\n      <td>...</td>\n      <td>1.3</td>\n      <td>14.2</td>\n      <td>15.1</td>\n      <td>35.2</td>\n      <td>38.8</td>\n      <td>10.0</td>\n      <td>6.0</td>\n      <td>1.0</td>\n      <td>3.0</td>\n      <td>84.0</td>\n    </tr>\n    <tr>\n      <th>27813</th>\n      <td>75.150485</td>\n      <td>71.0</td>\n      <td>90.0</td>\n      <td>80.580645</td>\n      <td>82.000000</td>\n      <td>149.0</td>\n      <td>126.222222</td>\n      <td>50.0</td>\n      <td>100.0</td>\n      <td>68.277778</td>\n      <td>...</td>\n      <td>3.3</td>\n      <td>14.1</td>\n      <td>33.6</td>\n      <td>28.4</td>\n      <td>40.4</td>\n      <td>14.0</td>\n      <td>6.0</td>\n      <td>4.0</td>\n      <td>4.0</td>\n      <td>68.0</td>\n    </tr>\n    <tr>\n      <th>10552</th>\n      <td>63.367793</td>\n      <td>61.0</td>\n      <td>92.0</td>\n      <td>75.880000</td>\n      <td>83.000000</td>\n      <td>176.0</td>\n      <td>126.250000</td>\n      <td>68.0</td>\n      <td>99.0</td>\n      <td>83.166667</td>\n      <td>...</td>\n      <td>NaN</td>\n      <td>NaN</td>\n      <td>NaN</td>\n      <td>NaN</td>\n      <td>NaN</td>\n      <td>15.0</td>\n      <td>1.0</td>\n      <td>0.0</td>\n      <td>1.0</td>\n      <td>94.0</td>\n    </tr>\n  </tbody>\n</table>\n<p>5 rows × 75 columns</p>\n</div>"
     },
     "execution_count": 103,
     "metadata": {},
     "output_type": "execute_result"
    }
   ],
   "source": [
    "X = df.drop(columns='aki_stage')\n",
    "y = df['aki_stage']\n",
    "\n",
    "X_train, X_test, y_train, y_test = train_test_split(X, y, test_size=0.2, random_state=42)\n",
    "\n",
    "threshold = 0.5\n",
    "missing_ratio = X_train.isnull().mean()\n",
    "cols_to_drop = missing_ratio[missing_ratio >= threshold].index\n",
    "X_train.drop(columns=cols_to_drop, inplace=True)\n",
    "\n",
    "X_test.drop(columns=cols_to_drop, inplace=True)\n",
    "\n",
    "X_train.drop(columns='id', inplace=True)\n",
    "X_test.drop(columns='id', inplace=True)\n",
    "\n",
    "var_thresh = VarianceThreshold(threshold=0.5)\n",
    "var_thresh.fit(X_train)\n",
    "\n",
    "selected_features = X_train.columns[var_thresh.get_support()]\n",
    "\n",
    "X_train_selected = X_train[selected_features]\n",
    "X_test_selected = X_test[selected_features]\n",
    "\n",
    "X_train_selected.head()"
   ],
   "metadata": {
    "collapsed": false,
    "pycharm": {
     "name": "#%%\n"
    }
   }
  },
  {
   "cell_type": "code",
   "execution_count": 103,
   "outputs": [],
   "source": [],
   "metadata": {
    "collapsed": false,
    "pycharm": {
     "name": "#%%\n"
    }
   }
  },
  {
   "cell_type": "code",
   "execution_count": 104,
   "outputs": [
    {
     "data": {
      "text/plain": "       admission_age  heart_rate_min  heart_rate_max  heart_rate_mean  \\\n21594      80.746049            78.0           119.0        99.666667   \n47259      42.783657            98.0           139.0       112.500000   \n17164      59.614632            82.0           114.0        95.945946   \n27813      75.150485            71.0            90.0        80.580645   \n10552      63.367793            61.0            92.0        75.880000   \n\n         sbp_min  sbp_max    sbp_mean  dbp_min  dbp_max   dbp_mean  ...  \\\n21594  45.000000    137.0  104.527027     34.0     66.0  52.770270  ...   \n47259  81.000000    120.0   98.086957     57.0    105.0  68.434783  ...   \n17164  84.333333    144.5  120.565892     51.0     86.0  61.562016  ...   \n27813  82.000000    149.0  126.222222     50.0    100.0  68.277778  ...   \n10552  83.000000    176.0  126.250000     68.0     99.0  83.166667  ...   \n\n       inr_max  pt_min  pt_max  ptt_min  ptt_max  gcs_min  gcs_motor  \\\n21594      1.4    12.6    15.3     23.2    150.0     15.0        6.0   \n47259      1.7    17.3    18.4     29.2     52.6     13.0        6.0   \n17164      1.3    14.2    15.1     35.2     38.8     10.0        6.0   \n27813      3.3    14.1    33.6     28.4     40.4     14.0        6.0   \n10552      1.3    13.1    14.3     28.4     31.7     15.0        1.0   \n\n       gcs_verbal  gcs_eyes  weight_admit  \n21594         0.0       3.0          67.1  \n47259         4.0       3.0          61.7  \n17164         1.0       3.0          84.0  \n27813         4.0       4.0          68.0  \n10552         0.0       1.0          94.0  \n\n[5 rows x 75 columns]",
      "text/html": "<div>\n<style scoped>\n    .dataframe tbody tr th:only-of-type {\n        vertical-align: middle;\n    }\n\n    .dataframe tbody tr th {\n        vertical-align: top;\n    }\n\n    .dataframe thead th {\n        text-align: right;\n    }\n</style>\n<table border=\"1\" class=\"dataframe\">\n  <thead>\n    <tr style=\"text-align: right;\">\n      <th></th>\n      <th>admission_age</th>\n      <th>heart_rate_min</th>\n      <th>heart_rate_max</th>\n      <th>heart_rate_mean</th>\n      <th>sbp_min</th>\n      <th>sbp_max</th>\n      <th>sbp_mean</th>\n      <th>dbp_min</th>\n      <th>dbp_max</th>\n      <th>dbp_mean</th>\n      <th>...</th>\n      <th>inr_max</th>\n      <th>pt_min</th>\n      <th>pt_max</th>\n      <th>ptt_min</th>\n      <th>ptt_max</th>\n      <th>gcs_min</th>\n      <th>gcs_motor</th>\n      <th>gcs_verbal</th>\n      <th>gcs_eyes</th>\n      <th>weight_admit</th>\n    </tr>\n  </thead>\n  <tbody>\n    <tr>\n      <th>21594</th>\n      <td>80.746049</td>\n      <td>78.0</td>\n      <td>119.0</td>\n      <td>99.666667</td>\n      <td>45.000000</td>\n      <td>137.0</td>\n      <td>104.527027</td>\n      <td>34.0</td>\n      <td>66.0</td>\n      <td>52.770270</td>\n      <td>...</td>\n      <td>1.4</td>\n      <td>12.6</td>\n      <td>15.3</td>\n      <td>23.2</td>\n      <td>150.0</td>\n      <td>15.0</td>\n      <td>6.0</td>\n      <td>0.0</td>\n      <td>3.0</td>\n      <td>67.1</td>\n    </tr>\n    <tr>\n      <th>47259</th>\n      <td>42.783657</td>\n      <td>98.0</td>\n      <td>139.0</td>\n      <td>112.500000</td>\n      <td>81.000000</td>\n      <td>120.0</td>\n      <td>98.086957</td>\n      <td>57.0</td>\n      <td>105.0</td>\n      <td>68.434783</td>\n      <td>...</td>\n      <td>1.7</td>\n      <td>17.3</td>\n      <td>18.4</td>\n      <td>29.2</td>\n      <td>52.6</td>\n      <td>13.0</td>\n      <td>6.0</td>\n      <td>4.0</td>\n      <td>3.0</td>\n      <td>61.7</td>\n    </tr>\n    <tr>\n      <th>17164</th>\n      <td>59.614632</td>\n      <td>82.0</td>\n      <td>114.0</td>\n      <td>95.945946</td>\n      <td>84.333333</td>\n      <td>144.5</td>\n      <td>120.565892</td>\n      <td>51.0</td>\n      <td>86.0</td>\n      <td>61.562016</td>\n      <td>...</td>\n      <td>1.3</td>\n      <td>14.2</td>\n      <td>15.1</td>\n      <td>35.2</td>\n      <td>38.8</td>\n      <td>10.0</td>\n      <td>6.0</td>\n      <td>1.0</td>\n      <td>3.0</td>\n      <td>84.0</td>\n    </tr>\n    <tr>\n      <th>27813</th>\n      <td>75.150485</td>\n      <td>71.0</td>\n      <td>90.0</td>\n      <td>80.580645</td>\n      <td>82.000000</td>\n      <td>149.0</td>\n      <td>126.222222</td>\n      <td>50.0</td>\n      <td>100.0</td>\n      <td>68.277778</td>\n      <td>...</td>\n      <td>3.3</td>\n      <td>14.1</td>\n      <td>33.6</td>\n      <td>28.4</td>\n      <td>40.4</td>\n      <td>14.0</td>\n      <td>6.0</td>\n      <td>4.0</td>\n      <td>4.0</td>\n      <td>68.0</td>\n    </tr>\n    <tr>\n      <th>10552</th>\n      <td>63.367793</td>\n      <td>61.0</td>\n      <td>92.0</td>\n      <td>75.880000</td>\n      <td>83.000000</td>\n      <td>176.0</td>\n      <td>126.250000</td>\n      <td>68.0</td>\n      <td>99.0</td>\n      <td>83.166667</td>\n      <td>...</td>\n      <td>1.3</td>\n      <td>13.1</td>\n      <td>14.3</td>\n      <td>28.4</td>\n      <td>31.7</td>\n      <td>15.0</td>\n      <td>1.0</td>\n      <td>0.0</td>\n      <td>1.0</td>\n      <td>94.0</td>\n    </tr>\n  </tbody>\n</table>\n<p>5 rows × 75 columns</p>\n</div>"
     },
     "execution_count": 104,
     "metadata": {},
     "output_type": "execute_result"
    }
   ],
   "source": [
    "for category in y_train.unique():\n",
    "\n",
    "    X_train_group = X_train_selected[y_train == category]\n",
    "\n",
    "    medians = X_train_group.median()\n",
    "\n",
    "    X_train_selected.loc[y_train == category] = X_train_selected.loc[y_train == category].fillna(medians)\n",
    "\n",
    "for category in y_train.unique():\n",
    "\n",
    "    X_test_group = X_test_selected[y_test == category]\n",
    "\n",
    "    medians = X_train_selected.loc[y_train == category].median()\n",
    "\n",
    "    X_test_selected.loc[y_test == category] = X_test_selected.loc[y_test == category].fillna(medians)\n",
    "\n",
    "X_train_selected.head()"
   ],
   "metadata": {
    "collapsed": false,
    "pycharm": {
     "name": "#%%\n"
    }
   }
  },
  {
   "cell_type": "code",
   "execution_count": 104,
   "outputs": [],
   "source": [],
   "metadata": {
    "collapsed": false,
    "pycharm": {
     "name": "#%%\n"
    }
   }
  },
  {
   "cell_type": "code",
   "execution_count": 105,
   "outputs": [
    {
     "data": {
      "text/plain": "       admission_age  heart_rate_min  heart_rate_max  sbp_min  sbp_max  \\\n47134      58.425782            78.0           142.0    111.0    185.0   \n7547       64.964858            58.0            78.0     65.0    138.0   \n20518      83.270679            84.0           110.0     98.0    123.0   \n37776      54.820712            53.0            78.0     90.0    126.0   \n27553      61.311234            61.0            90.0     74.0    127.0   \n\n       dbp_min  dbp_max  resp_rate_min  resp_rate_max  temperature_vital_min  \\\n47134     56.0     95.0           12.0           26.0                  35.39   \n7547      45.0     89.0            6.0           27.0                  36.28   \n20518     48.0     81.0           16.0           29.0                  36.06   \n37776     47.0     74.0           17.0           28.0                  35.56   \n27553     47.0     68.0           12.0           23.0                  35.60   \n\n       ...  potassium_lab_max  abs_lymphocytes_min  abs_monocytes_min  \\\n47134  ...                4.4               0.6386             0.1860   \n7547   ...                5.6               1.1768             0.4800   \n20518  ...                4.2               1.2852             0.4547   \n37776  ...                3.7               0.4980             0.1050   \n27553  ...                4.1               2.1500             1.5100   \n\n       abs_neutrophils_min  inr_max  ptt_min  ptt_max  gcs_min  gcs_motor  \\\n47134               5.3320      1.3     28.4     31.7     15.0        6.0   \n7547                8.7344      1.2     37.5     38.2     15.0        1.0   \n20518               7.6400      1.1     30.8     70.7     15.0        6.0   \n37776               2.3610      1.3     31.2     31.2     15.0        6.0   \n27553              17.1600      1.6     28.0     31.8     15.0        6.0   \n\n       weight_admit  \n47134         114.0  \n7547           75.8  \n20518          34.5  \n37776          71.2  \n27553         106.6  \n\n[5 rows x 41 columns]",
      "text/html": "<div>\n<style scoped>\n    .dataframe tbody tr th:only-of-type {\n        vertical-align: middle;\n    }\n\n    .dataframe tbody tr th {\n        vertical-align: top;\n    }\n\n    .dataframe thead th {\n        text-align: right;\n    }\n</style>\n<table border=\"1\" class=\"dataframe\">\n  <thead>\n    <tr style=\"text-align: right;\">\n      <th></th>\n      <th>admission_age</th>\n      <th>heart_rate_min</th>\n      <th>heart_rate_max</th>\n      <th>sbp_min</th>\n      <th>sbp_max</th>\n      <th>dbp_min</th>\n      <th>dbp_max</th>\n      <th>resp_rate_min</th>\n      <th>resp_rate_max</th>\n      <th>temperature_vital_min</th>\n      <th>...</th>\n      <th>potassium_lab_max</th>\n      <th>abs_lymphocytes_min</th>\n      <th>abs_monocytes_min</th>\n      <th>abs_neutrophils_min</th>\n      <th>inr_max</th>\n      <th>ptt_min</th>\n      <th>ptt_max</th>\n      <th>gcs_min</th>\n      <th>gcs_motor</th>\n      <th>weight_admit</th>\n    </tr>\n  </thead>\n  <tbody>\n    <tr>\n      <th>47134</th>\n      <td>58.425782</td>\n      <td>78.0</td>\n      <td>142.0</td>\n      <td>111.0</td>\n      <td>185.0</td>\n      <td>56.0</td>\n      <td>95.0</td>\n      <td>12.0</td>\n      <td>26.0</td>\n      <td>35.39</td>\n      <td>...</td>\n      <td>4.4</td>\n      <td>0.6386</td>\n      <td>0.1860</td>\n      <td>5.3320</td>\n      <td>1.3</td>\n      <td>28.4</td>\n      <td>31.7</td>\n      <td>15.0</td>\n      <td>6.0</td>\n      <td>114.0</td>\n    </tr>\n    <tr>\n      <th>7547</th>\n      <td>64.964858</td>\n      <td>58.0</td>\n      <td>78.0</td>\n      <td>65.0</td>\n      <td>138.0</td>\n      <td>45.0</td>\n      <td>89.0</td>\n      <td>6.0</td>\n      <td>27.0</td>\n      <td>36.28</td>\n      <td>...</td>\n      <td>5.6</td>\n      <td>1.1768</td>\n      <td>0.4800</td>\n      <td>8.7344</td>\n      <td>1.2</td>\n      <td>37.5</td>\n      <td>38.2</td>\n      <td>15.0</td>\n      <td>1.0</td>\n      <td>75.8</td>\n    </tr>\n    <tr>\n      <th>20518</th>\n      <td>83.270679</td>\n      <td>84.0</td>\n      <td>110.0</td>\n      <td>98.0</td>\n      <td>123.0</td>\n      <td>48.0</td>\n      <td>81.0</td>\n      <td>16.0</td>\n      <td>29.0</td>\n      <td>36.06</td>\n      <td>...</td>\n      <td>4.2</td>\n      <td>1.2852</td>\n      <td>0.4547</td>\n      <td>7.6400</td>\n      <td>1.1</td>\n      <td>30.8</td>\n      <td>70.7</td>\n      <td>15.0</td>\n      <td>6.0</td>\n      <td>34.5</td>\n    </tr>\n    <tr>\n      <th>37776</th>\n      <td>54.820712</td>\n      <td>53.0</td>\n      <td>78.0</td>\n      <td>90.0</td>\n      <td>126.0</td>\n      <td>47.0</td>\n      <td>74.0</td>\n      <td>17.0</td>\n      <td>28.0</td>\n      <td>35.56</td>\n      <td>...</td>\n      <td>3.7</td>\n      <td>0.4980</td>\n      <td>0.1050</td>\n      <td>2.3610</td>\n      <td>1.3</td>\n      <td>31.2</td>\n      <td>31.2</td>\n      <td>15.0</td>\n      <td>6.0</td>\n      <td>71.2</td>\n    </tr>\n    <tr>\n      <th>27553</th>\n      <td>61.311234</td>\n      <td>61.0</td>\n      <td>90.0</td>\n      <td>74.0</td>\n      <td>127.0</td>\n      <td>47.0</td>\n      <td>68.0</td>\n      <td>12.0</td>\n      <td>23.0</td>\n      <td>35.60</td>\n      <td>...</td>\n      <td>4.1</td>\n      <td>2.1500</td>\n      <td>1.5100</td>\n      <td>17.1600</td>\n      <td>1.6</td>\n      <td>28.0</td>\n      <td>31.8</td>\n      <td>15.0</td>\n      <td>6.0</td>\n      <td>106.6</td>\n    </tr>\n  </tbody>\n</table>\n<p>5 rows × 41 columns</p>\n</div>"
     },
     "execution_count": 105,
     "metadata": {},
     "output_type": "execute_result"
    }
   ],
   "source": [
    "corr_matrix = X_train_selected.corr()\n",
    "\n",
    "upper_tri = corr_matrix.where(np.triu(np.ones(corr_matrix.shape), k=1).astype(bool))\n",
    "\n",
    "threshold = 0.6\n",
    "\n",
    "to_drop = [column for column in upper_tri.columns if any(upper_tri[column].abs() > threshold)]\n",
    "\n",
    "X_train_selected = X_train_selected.drop(columns=to_drop)\n",
    "\n",
    "X_test_selected = X_test_selected.drop(columns=to_drop, errors='ignore')\n",
    "\n",
    "X_test_selected.head()"
   ],
   "metadata": {
    "collapsed": false,
    "pycharm": {
     "name": "#%%\n"
    }
   }
  },
  {
   "cell_type": "code",
   "execution_count": 105,
   "outputs": [],
   "source": [],
   "metadata": {
    "collapsed": false,
    "pycharm": {
     "name": "#%%\n"
    }
   }
  },
  {
   "cell_type": "code",
   "execution_count": 106,
   "outputs": [
    {
     "name": "stdout",
     "output_type": "stream",
     "text": [
      "Selected Features: ['pco2_max', 'gcs_motor', 'bun_min', 'weight_admit', 'sbp_min', 'admission_age', 'temperature_vital_max', 'pco2_min', 'sbp_max', 'ptt_max', 'abs_neutrophils_min', 'potassium_lab_max', 'spo2_max', 'heart_rate_max', 'inr_max', 'chloride_lab_min', 'po2_max', 'po2_min']\n",
      "AUC Score: [0.6462031200013977, 0.6663015476820406, 0.6710428971163148, 0.6864013376622672, 0.7028525910709762, 0.7166115136916262, 0.7238322335387577, 0.7281553905684272, 0.7320143866589918, 0.7351271661248496, 0.7381501325115292, 0.7403523670515203, 0.7421340398178689, 0.7439889310092995, 0.7453758223180678, 0.7464590011966391, 0.7476387279820662, 0.7489616030569]\n",
      "Feature Number: 18\n"
     ]
    }
   ],
   "source": [
    "class GreedyFeatureSelection:\n",
    "    def evaluate_score(self, X_train, y_train, X_val, y_val):\n",
    "\n",
    "        scaler = StandardScaler()\n",
    "        X_train_scaled = scaler.fit_transform(X_train)\n",
    "        X_val_scaled = scaler.transform(X_val)\n",
    "\n",
    "        model = LogisticRegression()\n",
    "        model.fit(X_train_scaled, y_train)\n",
    "\n",
    "        predictions = model.predict_proba(X_val_scaled)[:, 1]\n",
    "        auc = metrics.roc_auc_score(y_val, predictions)\n",
    "        return auc\n",
    "\n",
    "    def _feature_selection(self, X_train, y_train, delta_threshold=0.001):\n",
    "        good_features = []\n",
    "        best_scores = []\n",
    "        num_features = X_train.shape[1]\n",
    "\n",
    "        kf = StratifiedKFold(n_splits=5, shuffle=True, random_state=42)\n",
    "\n",
    "        while True:\n",
    "            this_feature = None\n",
    "            best_score = 0\n",
    "            for feature in range(num_features):\n",
    "                if feature in good_features:\n",
    "                    continue\n",
    "                selected_features = good_features + [feature]\n",
    "                xtrain = X_train.iloc[:, selected_features]\n",
    "\n",
    "                fold_scores = []\n",
    "                for train_idx, val_idx in kf.split(xtrain, y_train):\n",
    "                    X_train_fold, X_val_fold = xtrain.iloc[train_idx], xtrain.iloc[val_idx]\n",
    "                    y_train_fold, y_val_fold = y_train.iloc[train_idx], y_train.iloc[val_idx]\n",
    "\n",
    "                    score = self.evaluate_score(X_train_fold, y_train_fold, X_val_fold, y_val_fold)\n",
    "                    fold_scores.append(score)\n",
    "\n",
    "                avg_score = np.mean(fold_scores)\n",
    "\n",
    "                if avg_score > best_score:\n",
    "                    this_feature = feature\n",
    "                    best_score = avg_score\n",
    "\n",
    "            if this_feature is None:\n",
    "                break\n",
    "\n",
    "            good_features.append(this_feature)\n",
    "            best_scores.append(best_score)\n",
    "\n",
    "            if len(best_scores) > 1 and (best_scores[-1] - best_scores[-2]) < delta_threshold:\n",
    "                break\n",
    "\n",
    "        return best_scores[:-1], good_features[:-1]\n",
    "\n",
    "    def __call__(self, X_train, y_train, delta_threshold=0.001):\n",
    "        scores, feature_indices = self._feature_selection(X_train, y_train, delta_threshold)\n",
    "        selected_features = X_train.columns[feature_indices]\n",
    "        return X_train.iloc[:, feature_indices], selected_features, scores\n",
    "\n",
    "\n",
    "def map_aki(aki):\n",
    "    return 1 if aki != 0 else 0\n",
    "\n",
    "y_logis = y_train.apply(map_aki)\n",
    "\n",
    "selector = GreedyFeatureSelection()\n",
    "X_train_transformed, selected_features, scores = selector(X_train_selected, y_logis, delta_threshold=0.001)\n",
    "\n",
    "print(\"Selected Features:\", selected_features.tolist())\n",
    "print(\"AUC Score:\", scores)\n",
    "print(\"Feature Number:\", len(selected_features.tolist()))"
   ],
   "metadata": {
    "collapsed": false,
    "pycharm": {
     "name": "#%%\n"
    }
   }
  },
  {
   "cell_type": "code",
   "execution_count": 107,
   "outputs": [
    {
     "data": {
      "text/plain": "       pco2_max  gcs_motor  bun_min  weight_admit    sbp_min  admission_age  \\\n21594      54.0        6.0     13.0          67.1  45.000000      80.746049   \n47259      34.0        6.0      7.0          61.7  81.000000      42.783657   \n17164      50.0        6.0     16.0          84.0  84.333333      59.614632   \n27813      46.0        6.0     11.0          68.0  82.000000      75.150485   \n10552      52.0        1.0     16.0          94.0  83.000000      63.367793   \n\n       temperature_vital_max  pco2_min  sbp_max  ptt_max  abs_neutrophils_min  \\\n21594                  36.89      42.0    137.0    150.0              12.5135   \n47259                  38.56      34.0    120.0     52.6               5.8000   \n17164                  37.70      28.0    144.5     38.8               7.6400   \n27813                  37.00      36.0    149.0     40.4               9.0180   \n10552                  37.28      35.0    176.0     31.7              10.0457   \n\n       potassium_lab_max  spo2_max  heart_rate_max  inr_max  chloride_lab_min  \\\n21594                7.6     100.0           119.0      1.4              89.0   \n47259                4.3      98.0           139.0      1.7              98.0   \n17164                4.3     100.0           114.0      1.3             107.0   \n27813                4.6     100.0            90.0      3.3             104.0   \n10552                8.0     100.0            92.0      1.3             103.0   \n\n       po2_max  po2_min  \n21594    252.0     31.0  \n47259     43.0     43.0  \n17164    410.0    120.0  \n27813    208.0     79.0  \n10552    163.0     89.0  ",
      "text/html": "<div>\n<style scoped>\n    .dataframe tbody tr th:only-of-type {\n        vertical-align: middle;\n    }\n\n    .dataframe tbody tr th {\n        vertical-align: top;\n    }\n\n    .dataframe thead th {\n        text-align: right;\n    }\n</style>\n<table border=\"1\" class=\"dataframe\">\n  <thead>\n    <tr style=\"text-align: right;\">\n      <th></th>\n      <th>pco2_max</th>\n      <th>gcs_motor</th>\n      <th>bun_min</th>\n      <th>weight_admit</th>\n      <th>sbp_min</th>\n      <th>admission_age</th>\n      <th>temperature_vital_max</th>\n      <th>pco2_min</th>\n      <th>sbp_max</th>\n      <th>ptt_max</th>\n      <th>abs_neutrophils_min</th>\n      <th>potassium_lab_max</th>\n      <th>spo2_max</th>\n      <th>heart_rate_max</th>\n      <th>inr_max</th>\n      <th>chloride_lab_min</th>\n      <th>po2_max</th>\n      <th>po2_min</th>\n    </tr>\n  </thead>\n  <tbody>\n    <tr>\n      <th>21594</th>\n      <td>54.0</td>\n      <td>6.0</td>\n      <td>13.0</td>\n      <td>67.1</td>\n      <td>45.000000</td>\n      <td>80.746049</td>\n      <td>36.89</td>\n      <td>42.0</td>\n      <td>137.0</td>\n      <td>150.0</td>\n      <td>12.5135</td>\n      <td>7.6</td>\n      <td>100.0</td>\n      <td>119.0</td>\n      <td>1.4</td>\n      <td>89.0</td>\n      <td>252.0</td>\n      <td>31.0</td>\n    </tr>\n    <tr>\n      <th>47259</th>\n      <td>34.0</td>\n      <td>6.0</td>\n      <td>7.0</td>\n      <td>61.7</td>\n      <td>81.000000</td>\n      <td>42.783657</td>\n      <td>38.56</td>\n      <td>34.0</td>\n      <td>120.0</td>\n      <td>52.6</td>\n      <td>5.8000</td>\n      <td>4.3</td>\n      <td>98.0</td>\n      <td>139.0</td>\n      <td>1.7</td>\n      <td>98.0</td>\n      <td>43.0</td>\n      <td>43.0</td>\n    </tr>\n    <tr>\n      <th>17164</th>\n      <td>50.0</td>\n      <td>6.0</td>\n      <td>16.0</td>\n      <td>84.0</td>\n      <td>84.333333</td>\n      <td>59.614632</td>\n      <td>37.70</td>\n      <td>28.0</td>\n      <td>144.5</td>\n      <td>38.8</td>\n      <td>7.6400</td>\n      <td>4.3</td>\n      <td>100.0</td>\n      <td>114.0</td>\n      <td>1.3</td>\n      <td>107.0</td>\n      <td>410.0</td>\n      <td>120.0</td>\n    </tr>\n    <tr>\n      <th>27813</th>\n      <td>46.0</td>\n      <td>6.0</td>\n      <td>11.0</td>\n      <td>68.0</td>\n      <td>82.000000</td>\n      <td>75.150485</td>\n      <td>37.00</td>\n      <td>36.0</td>\n      <td>149.0</td>\n      <td>40.4</td>\n      <td>9.0180</td>\n      <td>4.6</td>\n      <td>100.0</td>\n      <td>90.0</td>\n      <td>3.3</td>\n      <td>104.0</td>\n      <td>208.0</td>\n      <td>79.0</td>\n    </tr>\n    <tr>\n      <th>10552</th>\n      <td>52.0</td>\n      <td>1.0</td>\n      <td>16.0</td>\n      <td>94.0</td>\n      <td>83.000000</td>\n      <td>63.367793</td>\n      <td>37.28</td>\n      <td>35.0</td>\n      <td>176.0</td>\n      <td>31.7</td>\n      <td>10.0457</td>\n      <td>8.0</td>\n      <td>100.0</td>\n      <td>92.0</td>\n      <td>1.3</td>\n      <td>103.0</td>\n      <td>163.0</td>\n      <td>89.0</td>\n    </tr>\n  </tbody>\n</table>\n</div>"
     },
     "execution_count": 107,
     "metadata": {},
     "output_type": "execute_result"
    }
   ],
   "source": [
    "X_transform_train = X_train_selected[selected_features]\n",
    "X_transform_test = X_test_selected[selected_features]\n",
    "X_transform_train.head()"
   ],
   "metadata": {
    "collapsed": false,
    "pycharm": {
     "name": "#%%\n"
    }
   }
  },
  {
   "cell_type": "code",
   "execution_count": 95,
   "outputs": [
    {
     "name": "stdout",
     "output_type": "stream",
     "text": [
      "Fitting 5 folds for each of 10 candidates, totalling 50 fits\n",
      "Optimal Params: {'n_estimators': 200, 'min_samples_split': 5, 'min_samples_leaf': 1, 'max_features': 'sqrt', 'max_depth': 30}\n",
      "Optimal Accuracy: 0.7935978004713276\n",
      "Classification Report:\n",
      "               precision    recall  f1-score   support\n",
      "\n",
      "           0       0.86      0.86      0.86      3310\n",
      "           1       0.89      0.66      0.75      1972\n",
      "           2       0.74      0.83      0.78      3327\n",
      "           3       0.71      0.75      0.73      1575\n",
      "\n",
      "    accuracy                           0.79     10184\n",
      "   macro avg       0.80      0.77      0.78     10184\n",
      "weighted avg       0.80      0.79      0.79     10184\n",
      "\n"
     ]
    }
   ],
   "source": [
    "param_grid = {\n",
    "    'n_estimators': [100, 200, 300],\n",
    "    'max_depth': [10, 20, 30, None],\n",
    "    'min_samples_split': [2, 5, 10],\n",
    "    'min_samples_leaf': [1, 2, 4],\n",
    "    'max_features': ['sqrt', 'log2']\n",
    "}\n",
    "\n",
    "rf_model = RandomForestClassifier(n_estimators=100, random_state=42,class_weight='balanced')\n",
    "\n",
    "grid_search = RandomizedSearchCV(rf_model, param_grid, cv=5, scoring='accuracy', n_jobs=-1, verbose=2)\n",
    "grid_search.fit(X_transform_train, y_train)\n",
    "\n",
    "print(\"Optimal Params:\", grid_search.best_params_)\n",
    "best_rf = grid_search.best_estimator_\n",
    "\n",
    "y_pred = best_rf.predict(X_transform_test)\n",
    "\n",
    "accuracy = accuracy_score(y_test, y_pred)\n",
    "print(\"Optimal Accuracy:\", accuracy)\n",
    "\n",
    "print(\"Classification Report:\\n\", classification_report(y_test, y_pred))"
   ],
   "metadata": {
    "collapsed": false,
    "pycharm": {
     "name": "#%%\n"
    }
   }
  },
  {
   "cell_type": "code",
   "execution_count": null,
   "outputs": [],
   "source": [],
   "metadata": {
    "collapsed": false,
    "pycharm": {
     "name": "#%%\n"
    }
   }
  },
  {
   "cell_type": "code",
   "execution_count": 96,
   "outputs": [
    {
     "name": "stdout",
     "output_type": "stream",
     "text": [
      "Fitting 5 folds for each of 10 candidates, totalling 50 fits\n"
     ]
    },
    {
     "name": "stderr",
     "output_type": "stream",
     "text": [
      "D:\\workshop_3\\venv\\lib\\site-packages\\xgboost\\core.py:158: UserWarning: [14:20:55] WARNING: C:\\buildkite-agent\\builds\\buildkite-windows-cpu-autoscaling-group-i-08cbc0333d8d4aae1-1\\xgboost\\xgboost-ci-windows\\src\\learner.cc:740: \n",
      "Parameters: { \"max_features\", \"min_samples_leaf\", \"min_samples_split\", \"use_label_encoder\" } are not used.\n",
      "\n",
      "  warnings.warn(smsg, UserWarning)\n"
     ]
    },
    {
     "name": "stdout",
     "output_type": "stream",
     "text": [
      "Optimal Params: {'n_estimators': 100, 'min_samples_split': 2, 'min_samples_leaf': 2, 'max_features': 'log2', 'max_depth': None}\n",
      "Optimal Accuracy: 0.799096622152396\n",
      "Classification Report:\n",
      "               precision    recall  f1-score   support\n",
      "\n",
      "           0       0.86      0.86      0.86      3310\n",
      "           1       0.85      0.69      0.76      1972\n",
      "           2       0.75      0.83      0.79      3327\n",
      "           3       0.73      0.73      0.73      1575\n",
      "\n",
      "    accuracy                           0.80     10184\n",
      "   macro avg       0.80      0.78      0.79     10184\n",
      "weighted avg       0.80      0.80      0.80     10184\n",
      "\n"
     ]
    }
   ],
   "source": [
    "xgb_model = XGBClassifier(use_label_encoder=False, eval_metric='mlogloss', random_state=42)\n",
    "\n",
    "grid_search = RandomizedSearchCV(xgb_model, param_grid, cv=5, scoring='accuracy', n_jobs=-1, verbose=2)\n",
    "grid_search.fit(X_transform_train, y_train)\n",
    "\n",
    "print(\"Optimal Params:\", grid_search.best_params_)\n",
    "best_xgb = grid_search.best_estimator_\n",
    "\n",
    "y_pred = best_xgb.predict(X_transform_test)\n",
    "\n",
    "accuracy = accuracy_score(y_test, y_pred)\n",
    "print(\"Optimal Accuracy:\", accuracy)\n",
    "\n",
    "print(\"Classification Report:\\n\", classification_report(y_test, y_pred))"
   ],
   "metadata": {
    "collapsed": false,
    "pycharm": {
     "name": "#%%\n"
    }
   }
  },
  {
   "cell_type": "code",
   "execution_count": null,
   "outputs": [],
   "source": [],
   "metadata": {
    "collapsed": false,
    "pycharm": {
     "name": "#%%\n"
    }
   }
  },
  {
   "cell_type": "code",
   "execution_count": 108,
   "outputs": [
    {
     "name": "stdout",
     "output_type": "stream",
     "text": [
      "Fitting 5 folds for each of 10 candidates, totalling 50 fits\n",
      "[LightGBM] [Warning] feature_fraction is set=1.0, colsample_bytree=1.0 will be ignored. Current value: feature_fraction=1.0\n",
      "[LightGBM] [Warning] feature_fraction is set=1.0, colsample_bytree=1.0 will be ignored. Current value: feature_fraction=1.0\n",
      "[LightGBM] [Info] Auto-choosing row-wise multi-threading, the overhead of testing was 0.003734 seconds.\n",
      "You can set `force_row_wise=true` to remove the overhead.\n",
      "And if memory is not enough, you can set `force_col_wise=true`.\n",
      "[LightGBM] [Info] Total Bins 2927\n",
      "[LightGBM] [Info] Number of data points in the train set: 40736, number of used features: 18\n",
      "[LightGBM] [Info] Start training from score -1.386294\n",
      "[LightGBM] [Info] Start training from score -1.386294\n",
      "[LightGBM] [Info] Start training from score -1.386294\n",
      "[LightGBM] [Info] Start training from score -1.386294\n",
      "Optimal Params: {'num_leaves': 100, 'n_estimators': 300, 'min_child_samples': 20, 'max_depth': 20, 'feature_fraction': 1.0}\n",
      "[LightGBM] [Warning] feature_fraction is set=1.0, colsample_bytree=1.0 will be ignored. Current value: feature_fraction=1.0\n",
      "Optimal Accuracy: 0.7977219167321288\n",
      "Classification Report:\n",
      "               precision    recall  f1-score   support\n",
      "\n",
      "           0       0.88      0.85      0.86      3310\n",
      "           1       0.81      0.70      0.75      1972\n",
      "           2       0.76      0.82      0.79      3327\n",
      "           3       0.70      0.75      0.73      1575\n",
      "\n",
      "    accuracy                           0.80     10184\n",
      "   macro avg       0.79      0.78      0.78     10184\n",
      "weighted avg       0.80      0.80      0.80     10184\n",
      "\n"
     ]
    }
   ],
   "source": [
    "from lightgbm import LGBMClassifier\n",
    "param_grid = {\n",
    "    'n_estimators': [100, 200, 300],\n",
    "    'max_depth': [10, 20, 30, -1],\n",
    "    'num_leaves': [31, 50, 70, 100],\n",
    "    'min_child_samples': [10, 20, 30],\n",
    "    'feature_fraction': [0.8, 0.9, 1.0]\n",
    "}\n",
    "\n",
    "lgbm_model = LGBMClassifier(random_state=42, is_unbalance=True,class_weight='balanced')\n",
    "\n",
    "grid_search = RandomizedSearchCV(lgbm_model, param_grid, cv=5, scoring='accuracy', n_jobs=-1, verbose=2)\n",
    "grid_search.fit(X_transform_train, y_train)\n",
    "\n",
    "print(\"Optimal Params:\", grid_search.best_params_)\n",
    "best_lgbm = grid_search.best_estimator_\n",
    "\n",
    "y_pred = best_lgbm.predict(X_transform_test)\n",
    "\n",
    "accuracy = accuracy_score(y_test, y_pred)\n",
    "print(\"Optimal Accuracy:\", accuracy)\n",
    "\n",
    "print(\"Classification Report:\\n\", classification_report(y_test, y_pred))"
   ],
   "metadata": {
    "collapsed": false,
    "pycharm": {
     "name": "#%%\n"
    }
   }
  }
 ],
 "metadata": {
  "kernelspec": {
   "display_name": "Python 3",
   "language": "python",
   "name": "python3"
  },
  "language_info": {
   "codemirror_mode": {
    "name": "ipython",
    "version": 2
   },
   "file_extension": ".py",
   "mimetype": "text/x-python",
   "name": "python",
   "nbconvert_exporter": "python",
   "pygments_lexer": "ipython2",
   "version": "2.7.6"
  }
 },
 "nbformat": 4,
 "nbformat_minor": 0
}